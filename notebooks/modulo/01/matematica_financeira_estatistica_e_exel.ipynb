{
  "nbformat": 4,
  "nbformat_minor": 0,
  "metadata": {
    "colab": {
      "provenance": [],
      "mount_file_id": "11ij949lf0OuwulSv4YnUKNg4q-lgxdBh",
      "authorship_tag": "ABX9TyOfTQyb+eDUkoHy9JCNx9Ds",
      "include_colab_link": true
    },
    "kernelspec": {
      "name": "python3",
      "display_name": "Python 3"
    },
    "language_info": {
      "name": "python"
    }
  },
  "cells": [
    {
      "cell_type": "markdown",
      "metadata": {
        "id": "view-in-github",
        "colab_type": "text"
      },
      "source": [
        "<a href=\"https://colab.research.google.com/github/calebebrim/FinMathAndStatistics/blob/main/notebooks/modulo/01/matematica_financeira_estatistica_e_exel.ipynb\" target=\"_parent\"><img src=\"https://colab.research.google.com/assets/colab-badge.svg\" alt=\"Open In Colab\"/></a>"
      ]
    },
    {
      "cell_type": "markdown",
      "source": [
        "# Introdução\n",
        "\n",
        "## Conceitos Basicos\n",
        "\n",
        "### Capital\n",
        "\n",
        "Por definição o captal é um dinheiro que está sendo imprestado ou investido. De acordo com o risco do investimento o valor da taxa de juros pode aumentar ou diminuir.\n",
        "\n",
        "### Fluxo de Caixa\n",
        "Conjunto de entradas e saídas de dinheiro em um tempo. Entrada de caixa é positiva a saída é negativa. \n",
        "\n",
        "### Rentabilidade ao período. \n",
        "Ou taxa de juros ao período definido por \"(valor final/valor inicial) -1\". Esse mesmo método pode ser utilizado tanto para calcular a evolução de um ativo quanto a valorização de uma moeda. Esse calculo pode ser utilizado tanto para juros simples quanto para juros compostos. \n"
      ],
      "metadata": {
        "id": "rV9YhQ8VOJ9i"
      }
    },
    {
      "cell_type": "markdown",
      "source": [
        "# Juros Simples\n",
        "\n",
        "O pagamento de juros é fixo (mesmo valor), pois a taxa de juros sempre incide sobre o capital inicial. \n",
        "\n",
        "No caso do juros simples o valor do juros não é reincorporado no valor do capital inicial.\n",
        "\n",
        "----\n",
        "\n",
        "\n",
        "\\begin{align}\n",
        "\\mathbf{i} &= \\frac{\\mathbf{J}}{\\mathbf{C}} \\\\\\\\\n",
        "\\mathbf{M} &= C \\cdot (C\\cdot i \\cdot n) =>\\\\\\\\\n",
        "\\mathbf{M} &= C \\cdot (1+ i \\cdot n) =>\\\\\\\\\n",
        "\\mathbf{M} &= C + J \\\\\n",
        "\\end{align}\n",
        "\n",
        "----\n",
        "\n",
        "As unidades precisam sempre estar correlacionadas a taxa de juros ao mês não é a mesma que a taxa de juros ao ano\n"
      ],
      "metadata": {
        "id": "WOwYwzTlN0Dl"
      }
    },
    {
      "cell_type": "code",
      "source": [
        "def rentabilidade_juros_simples(C, i, n):\n",
        "  return C * (1+(i*n))\n",
        "\n",
        "capital = 10000\n",
        "print(\"juros simples \", capital, rentabilidade_juros_simples(capital,0.12, 1))\n",
        "print(\"juros simples \", capital, rentabilidade_juros_simples(capital,0.01, 12))"
      ],
      "metadata": {
        "id": "1QbbPLzeRnys",
        "colab": {
          "base_uri": "https://localhost:8080/"
        },
        "outputId": "bcb16d47-976e-4e28-822b-aab20ac3742c"
      },
      "execution_count": null,
      "outputs": [
        {
          "output_type": "stream",
          "name": "stdout",
          "text": [
            "juros simples  10000 11200.000000000002\n",
            "juros simples  10000 11200.000000000002\n"
          ]
        }
      ]
    },
    {
      "cell_type": "markdown",
      "source": [
        "# Juros Compostos\n",
        "\n",
        "Mais utilizado no mercado Brasileiro, quando não pago, é incporporado no capital da dívida somando o montante sobre o qual é calculado o juro seguinte. \n",
        "\n",
        "\n",
        "Os valores de juros compostos são calculados pelas formulas de VF e VP. \n",
        "\n",
        "\\begin{align} \n",
        "\\\\ \\text{Valor Futuro}\\\\\n",
        "VF &= PU * (1+i)^{\\frac{du}{252}} \\\\\\\\\n",
        "\\\\ \\text{Valor presente} \\\\\n",
        "VP &= \\frac{VF}{ (1+i)^{\\frac{du}{252}}} \\\\\n",
        "\\end{align}\n",
        " "
      ],
      "metadata": {
        "id": "j7sNPt16OB7e"
      }
    },
    {
      "cell_type": "code",
      "source": [
        "!pip install numpy-financial"
      ],
      "metadata": {
        "id": "v9fIs5qnjScr"
      },
      "execution_count": null,
      "outputs": []
    },
    {
      "cell_type": "code",
      "source": [
        "\n",
        "import numpy as np\n",
        "import numpy_financial as npf\n",
        "\n",
        "\n",
        "def VF(VP,i,n):\n",
        "  # return VP * (1+i) ** n\n",
        "  return npf.vf(VP,i,n)\n",
        "\n",
        "def VP(VF,i,n):\n",
        "  return VF/(1+i)** n\n",
        "\n",
        "def I(vp,vf, n):\n",
        "  return npf.rate(n,0,-vp, vf)\n",
        "\n",
        "def periodo(vp,vf,i):\n",
        "  return npf.nper(i, 1,pv=-vp, fv=vf ).tolist()\n"
      ],
      "metadata": {
        "id": "fYOIpBi5Z4g1"
      },
      "execution_count": null,
      "outputs": []
    },
    {
      "cell_type": "code",
      "source": [
        "VF(10000,0.07,2)"
      ],
      "metadata": {
        "colab": {
          "base_uri": "https://localhost:8080/"
        },
        "id": "8mEoN7Y6bL0Y",
        "outputId": "a4852ab7-bfd9-4207-ae5f-698e3ea2d856"
      },
      "execution_count": null,
      "outputs": [
        {
          "output_type": "execute_result",
          "data": {
            "text/plain": [
              "11449.0"
            ]
          },
          "metadata": {},
          "execution_count": 58
        }
      ]
    },
    {
      "cell_type": "code",
      "source": [
        "VP(VF(1000,0.07,2), 0.07, 2)"
      ],
      "metadata": {
        "colab": {
          "base_uri": "https://localhost:8080/"
        },
        "id": "2UAFHznYblbd",
        "outputId": "599a9891-5ced-4432-f01f-cf75351cbe4b"
      },
      "execution_count": null,
      "outputs": [
        {
          "output_type": "execute_result",
          "data": {
            "text/plain": [
              "1000.0"
            ]
          },
          "metadata": {},
          "execution_count": 59
        }
      ]
    },
    {
      "cell_type": "code",
      "source": [
        "VP(12000,0.07,2)"
      ],
      "metadata": {
        "colab": {
          "base_uri": "https://localhost:8080/"
        },
        "id": "uOmD0wpufMIg",
        "outputId": "310bf541-39c2-4e8f-faf3-ca4b8e6ffa73"
      },
      "execution_count": null,
      "outputs": [
        {
          "output_type": "execute_result",
          "data": {
            "text/plain": [
              "10481.26473927854"
            ]
          },
          "metadata": {},
          "execution_count": 60
        }
      ]
    },
    {
      "cell_type": "code",
      "source": [
        "# Calculando a taxa de um investimento de 1000 para receber 12000 em 2 anos\n",
        "I(10000, 12000, 2)"
      ],
      "metadata": {
        "colab": {
          "base_uri": "https://localhost:8080/"
        },
        "id": "71xH2rNbjVp0",
        "outputId": "c97b5bef-a4cf-44d1-b4cc-b1cebdf86bda"
      },
      "execution_count": null,
      "outputs": [
        {
          "output_type": "execute_result",
          "data": {
            "text/plain": [
              "0.09544511501033222"
            ]
          },
          "metadata": {},
          "execution_count": 61
        }
      ]
    },
    {
      "cell_type": "code",
      "source": [
        "periodo(90000, 1000000,0.12)"
      ],
      "metadata": {
        "colab": {
          "base_uri": "https://localhost:8080/"
        },
        "id": "jX-wns-Ul9ym",
        "outputId": "a3089bab-4d6e-4847-eb65-5718add20ad0"
      },
      "execution_count": null,
      "outputs": [
        {
          "output_type": "execute_result",
          "data": {
            "text/plain": [
              "21.24819383230382"
            ]
          },
          "metadata": {},
          "execution_count": 75
        }
      ]
    }
  ]
}