{
  "nbformat": 4,
  "nbformat_minor": 0,
  "metadata": {
    "colab": {
      "provenance": [],
      "toc_visible": true,
      "authorship_tag": "ABX9TyM9BKLWyA0kszSJEMIzQvTt",
      "include_colab_link": true
    },
    "kernelspec": {
      "name": "python3",
      "display_name": "Python 3"
    },
    "language_info": {
      "name": "python"
    }
  },
  "cells": [
    {
      "cell_type": "markdown",
      "metadata": {
        "id": "view-in-github",
        "colab_type": "text"
      },
      "source": [
        "<a href=\"https://colab.research.google.com/github/calebebrim/FinMathAndStatistics/blob/main/notebooks/modulo/01/matematica_financeira_estatistica_e_exel.ipynb\" target=\"_parent\"><img src=\"https://colab.research.google.com/assets/colab-badge.svg\" alt=\"Open In Colab\"/></a>"
      ]
    },
    {
      "cell_type": "markdown",
      "source": [
        "# Introdução\n",
        "\n",
        "## Conceitos Basicos\n",
        "\n",
        "### Captal\n",
        "\n",
        "Por definição o captal é um dinheiro que está sendo imprestado ou investido. De acordo com o risco do investimento o valor da taxa de juros pode aumentar ou diminuir.\n",
        "\n",
        "### Fluxo de Caixa\n",
        "Conjunto de entradas e saídas de dinheiro em um tempo. Entrada de caixa é positiva a saída é negativa. \n",
        "\n",
        "### Rentabilidade ao período. \n"
      ],
      "metadata": {
        "id": "rV9YhQ8VOJ9i"
      }
    },
    {
      "cell_type": "markdown",
      "source": [
        "# Juros Simples"
      ],
      "metadata": {
        "id": "WOwYwzTlN0Dl"
      }
    },
    {
      "cell_type": "markdown",
      "source": [
        "# Juros Compostos"
      ],
      "metadata": {
        "id": "j7sNPt16OB7e"
      }
    }
  ]
}