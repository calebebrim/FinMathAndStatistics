{
  "nbformat": 4,
  "nbformat_minor": 0,
  "metadata": {
    "colab": {
      "provenance": [],
      "toc_visible": true,
      "mount_file_id": "11ij949lf0OuwulSv4YnUKNg4q-lgxdBh",
      "authorship_tag": "ABX9TyOAIYF+ad97CB6QanoujtdU",
      "include_colab_link": true
    },
    "kernelspec": {
      "name": "python3",
      "display_name": "Python 3"
    },
    "language_info": {
      "name": "python"
    }
  },
  "cells": [
    {
      "cell_type": "markdown",
      "metadata": {
        "id": "view-in-github",
        "colab_type": "text"
      },
      "source": [
        "<a href=\"https://colab.research.google.com/github/calebebrim/FinMathAndStatistics/blob/main/notebooks/modulo/01/matematica_financeira_estatistica_e_exel.ipynb\" target=\"_parent\"><img src=\"https://colab.research.google.com/assets/colab-badge.svg\" alt=\"Open In Colab\"/></a>"
      ]
    },
    {
      "cell_type": "markdown",
      "source": [
        "# Introdução\n",
        "\n",
        "## Conceitos Basicos\n",
        "\n",
        "### Capital\n",
        "\n",
        "Por definição o captal é um dinheiro que está sendo imprestado ou investido. De acordo com o risco do investimento o valor da taxa de juros pode aumentar ou diminuir.\n",
        "\n",
        "### Fluxo de Caixa\n",
        "Conjunto de entradas e saídas de dinheiro em um tempo. Entrada de caixa é positiva a saída é negativa. \n",
        "\n",
        "### Rentabilidade ao período. \n",
        "Ou taxa de juros ao período definido por \"(valor final/valor inicial) -1\". Esse mesmo método pode ser utilizado tanto para calcular a evolução de um ativo quanto a valorização de uma moeda. Esse calculo pode ser utilizado tanto para juros simples quanto para juros compostos. \n"
      ],
      "metadata": {
        "id": "rV9YhQ8VOJ9i"
      }
    },
    {
      "cell_type": "markdown",
      "source": [
        "# Juros Simples\n",
        "\n",
        "O pagamento de juros é fixo (mesmo valor), pois a taxa de juros sempre incide sobre o capital inicial. \n",
        "\n",
        "No caso do juros simples o valor do juros não é reincorporado no valor do capital inicial.\n",
        "\n",
        "----\n",
        "\n",
        "\n",
        "\\begin{align}\n",
        "\\mathbf{i} &= \\frac{\\mathbf{J}}{\\mathbf{C}} \\\\\\\\\n",
        "\\mathbf{M} &= C \\cdot (C\\cdot i \\cdot n) =>\\\\\\\\\n",
        "\\mathbf{M} &= C \\cdot (1+ i \\cdot n) =>\\\\\\\\\n",
        "\\mathbf{M} &= C + J \\\\\n",
        "\\end{align}\n",
        "\n",
        "----\n",
        "\n",
        "As unidades precisam sempre estar correlacionadas a taxa de juros ao mês não é a mesma que a taxa de juros ao ano\n"
      ],
      "metadata": {
        "id": "WOwYwzTlN0Dl"
      }
    },
    {
      "cell_type": "code",
      "source": [
        "def rentabilidade_juros_simples(C, i, n):\n",
        "  return C * (1+(i*n))\n",
        "\n",
        "capital = 10000\n",
        "print(\"juros simples \", capital, rentabilidade_juros_simples(capital,0.12, 1))\n",
        "print(\"juros simples \", capital, rentabilidade_juros_simples(capital,0.01, 12))"
      ],
      "metadata": {
        "id": "1QbbPLzeRnys",
        "colab": {
          "base_uri": "https://localhost:8080/"
        },
        "outputId": "205dd4dc-c801-4304-dd2e-1ab579b4a259"
      },
      "execution_count": 1,
      "outputs": [
        {
          "output_type": "stream",
          "name": "stdout",
          "text": [
            "juros simples  10000 11200.000000000002\n",
            "juros simples  10000 11200.000000000002\n"
          ]
        }
      ]
    },
    {
      "cell_type": "markdown",
      "source": [
        "# Juros Compostos\n",
        "\n",
        "Mais utilizado no mercado Brasileiro, quando não pago, é incporporado no capital da dívida somando o montante sobre o qual é calculado o juro seguinte. \n",
        "\n",
        "\n",
        "Os valores de juros compostos são calculados pelas formulas de VF e VP. \n",
        "\n",
        "\\begin{align} \n",
        "\\\\ \\text{Valor Futuro}\\\\\n",
        "VF &= PU * (1+i)^{\\frac{du}{252}} \\\\\\\\\n",
        "\\\\ \\text{Valor presente} \\\\\n",
        "VP &= \\frac{VF}{ (1+i)^{\\frac{du}{252}}} \\\\\n",
        "\\end{align}\n",
        " "
      ],
      "metadata": {
        "id": "j7sNPt16OB7e"
      }
    },
    {
      "cell_type": "code",
      "source": [
        "!pip install numpy-financial"
      ],
      "metadata": {
        "id": "v9fIs5qnjScr",
        "colab": {
          "base_uri": "https://localhost:8080/"
        },
        "outputId": "eeda81d2-3a45-4df1-f91b-7a78e4029cf0"
      },
      "execution_count": 2,
      "outputs": [
        {
          "output_type": "stream",
          "name": "stdout",
          "text": [
            "Looking in indexes: https://pypi.org/simple, https://us-python.pkg.dev/colab-wheels/public/simple/\n",
            "Collecting numpy-financial\n",
            "  Downloading numpy_financial-1.0.0-py3-none-any.whl (14 kB)\n",
            "Requirement already satisfied: numpy>=1.15 in /usr/local/lib/python3.8/dist-packages (from numpy-financial) (1.21.6)\n",
            "Installing collected packages: numpy-financial\n",
            "Successfully installed numpy-financial-1.0.0\n"
          ]
        }
      ]
    },
    {
      "cell_type": "code",
      "source": [
        "\n",
        "import numpy as np\n",
        "import numpy_financial as npf\n",
        "\n",
        "\n",
        "def VF(VP,i,n):\n",
        "  # return VP * (1+i) ** n\n",
        "  return npf.fv(i, n, 0,VP)\n",
        "\n",
        "def VP(VF,i,n):\n",
        "  return VF/(1+i)** n\n",
        "\n",
        "def I(vp,vf, n):\n",
        "  return npf.rate(n,0,-vp, vf)\n",
        "\n",
        "def periodo(vp,vf,i):\n",
        "  return npf.nper(i, 1,pv=-vp, fv=vf ).tolist()\n"
      ],
      "metadata": {
        "id": "fYOIpBi5Z4g1"
      },
      "execution_count": 16,
      "outputs": []
    },
    {
      "cell_type": "code",
      "source": [
        "VF(10000,0.07,2)"
      ],
      "metadata": {
        "colab": {
          "base_uri": "https://localhost:8080/"
        },
        "id": "8mEoN7Y6bL0Y",
        "outputId": "57249815-8229-479f-c1d7-738421a07984"
      },
      "execution_count": 17,
      "outputs": [
        {
          "output_type": "execute_result",
          "data": {
            "text/plain": [
              "-11449.0"
            ]
          },
          "metadata": {},
          "execution_count": 17
        }
      ]
    },
    {
      "cell_type": "code",
      "source": [
        "VP(VF(10000,0.07,2), 0.07, 2)"
      ],
      "metadata": {
        "colab": {
          "base_uri": "https://localhost:8080/"
        },
        "id": "2UAFHznYblbd",
        "outputId": "46ec187c-874b-4a6a-9a48-1cfca64649c5"
      },
      "execution_count": 22,
      "outputs": [
        {
          "output_type": "execute_result",
          "data": {
            "text/plain": [
              "-10000.0"
            ]
          },
          "metadata": {},
          "execution_count": 22
        }
      ]
    },
    {
      "cell_type": "code",
      "source": [
        "VP(12000,0.07,2)"
      ],
      "metadata": {
        "colab": {
          "base_uri": "https://localhost:8080/"
        },
        "id": "uOmD0wpufMIg",
        "outputId": "5265b328-2ab1-4685-cc6b-37bd3b06c6cc"
      },
      "execution_count": 19,
      "outputs": [
        {
          "output_type": "execute_result",
          "data": {
            "text/plain": [
              "10481.26473927854"
            ]
          },
          "metadata": {},
          "execution_count": 19
        }
      ]
    },
    {
      "cell_type": "code",
      "source": [
        "# Calculando a taxa de um investimento de 1000 para receber 12000 em 2 anos\n",
        "I(10000, 12000, 2)"
      ],
      "metadata": {
        "colab": {
          "base_uri": "https://localhost:8080/"
        },
        "id": "71xH2rNbjVp0",
        "outputId": "49146df8-4077-46f6-d0a8-706a67c27067"
      },
      "execution_count": 20,
      "outputs": [
        {
          "output_type": "execute_result",
          "data": {
            "text/plain": [
              "0.09544511501033222"
            ]
          },
          "metadata": {},
          "execution_count": 20
        }
      ]
    },
    {
      "cell_type": "code",
      "source": [
        "periodo(90000, 1000000,0.12)"
      ],
      "metadata": {
        "colab": {
          "base_uri": "https://localhost:8080/"
        },
        "id": "jX-wns-Ul9ym",
        "outputId": "fc34695a-b5ac-42e3-bbaf-7f2061d57384"
      },
      "execution_count": 21,
      "outputs": [
        {
          "output_type": "execute_result",
          "data": {
            "text/plain": [
              "21.24819383230382"
            ]
          },
          "metadata": {},
          "execution_count": 21
        }
      ]
    },
    {
      "cell_type": "markdown",
      "source": [
        "## Equivalencia de Taxa de Juros Compostos\n",
        "\n",
        "\\begin{align} \n",
        "\\mathbf{i}_q = (1 + \\mathbf{i}_t)^{\\frac{q}{t}}-1 \\\\\\\\\n",
        "\\end{align}\n",
        "\n",
        "Onde:\n",
        "\n",
        "q: é o periodo que eu quero expressar a taxa\n",
        "\n",
        "t: é o periodo que eu tenho a taxa, ambos na menor unidade dada\n",
        " "
      ],
      "metadata": {
        "id": "HrAwqlobpU5f"
      }
    },
    {
      "cell_type": "code",
      "source": [
        "def rentabilidade_ao_periodo(vp0, vp1):\n",
        "  \"\"\" \n",
        "    Calcula a rentabilidade do período\n",
        "  \"\"\"\n",
        "  return (vp1/vp0)-1\n",
        "\n",
        "def conversao_taxa_por_periodo(i,t,q):\n",
        "  \"\"\"\n",
        "    Converte uma taxa i de período t para o período q\n",
        "  \"\"\"\n",
        "  return  ((1+i) ** (q/t))-1"
      ],
      "metadata": {
        "id": "AWhSfyE5qkON"
      },
      "execution_count": 35,
      "outputs": []
    },
    {
      "cell_type": "code",
      "source": [
        "#Conversão de uma taxa de 13.75% ao ano convertido à uma taxa mensal\n",
        "\n",
        "conversao_taxa_por_periodo(0.1375,12,1)"
      ],
      "metadata": {
        "colab": {
          "base_uri": "https://localhost:8080/"
        },
        "id": "OxYfq20sr1aH",
        "outputId": "8f0be2a7-f834-4f14-8908-81062b066105"
      },
      "execution_count": 25,
      "outputs": [
        {
          "output_type": "execute_result",
          "data": {
            "text/plain": [
              "0.010793911082132235"
            ]
          },
          "metadata": {},
          "execution_count": 25
        }
      ]
    },
    {
      "cell_type": "code",
      "source": [
        "#Conversão de uma taxa de 1% ao mês convertido ao ano\n",
        "conversao_taxa_por_periodo(0.01,1,12)"
      ],
      "metadata": {
        "colab": {
          "base_uri": "https://localhost:8080/"
        },
        "id": "S0324x-qtmYE",
        "outputId": "d5c06420-a0b9-43bc-f62e-ff2f52408b61"
      },
      "execution_count": 26,
      "outputs": [
        {
          "output_type": "execute_result",
          "data": {
            "text/plain": [
              "0.12682503013196977"
            ]
          },
          "metadata": {},
          "execution_count": 26
        }
      ]
    },
    {
      "cell_type": "code",
      "source": [
        "#Conversão de uma taxa de 20% ao periodo de 45 dias convertido ao ano\n",
        "\n",
        "conversao_taxa_por_periodo(0.2,45,365)"
      ],
      "metadata": {
        "colab": {
          "base_uri": "https://localhost:8080/"
        },
        "id": "bqWNpc5Mt29I",
        "outputId": "ce39a79b-9961-48fa-8bf2-34ae55879627"
      },
      "execution_count": 27,
      "outputs": [
        {
          "output_type": "execute_result",
          "data": {
            "text/plain": [
              "3.387810717581835"
            ]
          },
          "metadata": {},
          "execution_count": 27
        }
      ]
    },
    {
      "cell_type": "code",
      "source": [
        "# Conversão da taxa selic ao dia\n",
        "\n",
        "print(f\"{conversao_taxa_por_periodo(0.1175,252,1)*100}% ao dia\")"
      ],
      "metadata": {
        "colab": {
          "base_uri": "https://localhost:8080/"
        },
        "id": "lxzX44SxuYdW",
        "outputId": "486c331b-b4e0-4776-9931-374fd094893d"
      },
      "execution_count": 32,
      "outputs": [
        {
          "output_type": "stream",
          "name": "stdout",
          "text": [
            "0.04409465832391213% ao dia\n"
          ]
        }
      ]
    },
    {
      "cell_type": "code",
      "source": [
        "# Compra de um título LTN por 400. Depois de 13 meses, vendo a LTN por 700. \n",
        "# Qual foi meu ganho ao período? Qual foi a minha rentabilidade média ao a.a e a.m\n",
        "\n",
        "\n",
        "VP = 400\n",
        "VF = 700\n",
        "periodo = 13 \n",
        "rentabilidade = rentabilidade_ao_periodo(VP,VF)\n",
        "\n",
        "rentabilidade_aa = conversao_taxa_por_periodo(rentabilidade, periodo, 12)\n",
        "rentabilidade_am = conversao_taxa_por_periodo(rentabilidade, periodo, 1)\n",
        "print(\"rentabilidade\", rentabilidade)\n",
        "print(\"rentabilidade ao ano\", rentabilidade_aa)\n",
        "print(\"rentabilidade ao mês\", rentabilidade_am)"
      ],
      "metadata": {
        "colab": {
          "base_uri": "https://localhost:8080/"
        },
        "id": "Uy1GzlyRu82f",
        "outputId": "7f04e146-188a-4140-ed77-427ada68968e"
      },
      "execution_count": 39,
      "outputs": [
        {
          "output_type": "stream",
          "name": "stdout",
          "text": [
            "rentabilidade 0.75\n",
            "rentabilidade ao ano 0.6762655288836892\n",
            "rentabilidade ao mês 0.0439873455880313\n"
          ]
        }
      ]
    },
    {
      "cell_type": "code",
      "source": [
        "# Comprei uma ação por 19.00 em 22/01. No dia 3/4 a ação está valendo 25.\n",
        "# Qual é o retorno sobre o meu unvestimento no período? \n",
        "# Qual é a média de retorno do investimento ao ano e ao mês?\n",
        "\n",
        "\n",
        "VP = 19\n",
        "VF = 25\n",
        "periodo = 40 \n",
        "rentabilidade = rentabilidade_ao_periodo(VP,VF)\n",
        "\n",
        "rentabilidade_aa = conversao_taxa_por_periodo(rentabilidade, periodo, 360)\n",
        "rentabilidade_am = conversao_taxa_por_periodo(rentabilidade, periodo, 30)\n",
        "print(\"rentabilidade\", rentabilidade)\n",
        "print(\"rentabilidade ao ano\", rentabilidade_aa)\n",
        "print(\"rentabilidade ao mês\", rentabilidade_am)"
      ],
      "metadata": {
        "colab": {
          "base_uri": "https://localhost:8080/"
        },
        "id": "cOtgs7jDxZyZ",
        "outputId": "b4df3889-2347-47da-ddb2-aef7a9415783"
      },
      "execution_count": 44,
      "outputs": [
        {
          "output_type": "stream",
          "name": "stdout",
          "text": [
            "rentabilidade 0.3157894736842106\n",
            "rentabilidade ao ano 10.821638357708897\n",
            "rentabilidade ao mês 0.22854142731212646\n"
          ]
        }
      ]
    },
    {
      "cell_type": "markdown",
      "source": [
        "## Rentabilidades como % do CDI\n",
        "\n",
        "Aplicações baseadas na taxa CDI rendem diariamente. Algumas aplicações pagam o CDI ou um percentual dessa taxa."
      ],
      "metadata": {
        "id": "Zqbw3Z3Xz_ws"
      }
    },
    {
      "cell_type": "markdown",
      "source": [
        "### Exemplo 1\n",
        " Considerando um investimento de R$20000 por 2 dias rendendo 95% do CDI. \n",
        "\n",
        "dia 1 = 10.03% \\\\\n",
        "dia 2 = 10.19% \\\\"
      ],
      "metadata": {
        "id": "bQ-kwvGMGaSG"
      }
    },
    {
      "cell_type": "code",
      "source": [
        "\n",
        "np.set_printoptions(precision=8)\n",
        "\n",
        "investimento = 20000\n",
        "percentual_cdi = 0.95\n",
        "\n",
        "cdi_aa = np.array([0.1003, 0.1019], dtype= np.double)\n",
        "cdi_ad = conversao_taxa_por_periodo(cdi_aa,252,1)\n",
        "cdi_percentual_ad = percentual_cdi*cdi_ad\n",
        "\n",
        "taxa_ao_periodo = np.prod(cdi_percentual_ad+1)-1\n",
        "taxa_ao_ano = conversao_taxa_por_periodo(taxa_ao_periodo,2,252)\n",
        "\n",
        "rentabilidade_ao_periodo = investimento*(1+taxa_ao_periodo)\n",
        "rentabilidade_projetada_ano = investimento*(1+taxa_ao_ano)\n",
        "\n",
        "print(\"cdi ao dia: \", cdi_ad)\n",
        "print(\"cdi percentual ao dia: \", cdi_percentual_ad)\n",
        "print(\"taxa ao periodo\",taxa_ao_periodo)\n",
        "print(\"taxa ao ano util\",taxa_ao_ano)\n",
        "print(\"rentabilidade ao período:\", rentabilidade_ao_periodo)\n",
        "print(\"rentabilidade projetada ao ano:\", rentabilidade_projetada_ano)\n",
        "\n"
      ],
      "metadata": {
        "colab": {
          "base_uri": "https://localhost:8080/"
        },
        "id": "GYaarm0N9jG7",
        "outputId": "e09fe7ab-32e2-4acc-df57-cd347936af28"
      },
      "execution_count": 73,
      "outputs": [
        {
          "output_type": "stream",
          "name": "stdout",
          "text": [
            "cdi ao dia:  [0.00037937 0.00038514]\n",
            "cdi percentual ao dia:  [0.0003604  0.00036588]\n",
            "taxa ao periodo 0.0007264130715558537\n",
            "taxa ao ano util 0.09581109985192637\n",
            "rentabilidade ao período: 20014.528261431118\n",
            "rentabilidade projetada ao ano: 21916.221997038527\n"
          ]
        }
      ]
    },
    {
      "cell_type": "markdown",
      "source": [
        "### Exemplo 2\n",
        "\n",
        "Um CDB rende 130% CDI. Na Curva de Juros a taxa pré está em 10% a.a para 1 ano.\n",
        "Qual seria a taxa equivalente para 130% do CDI?"
      ],
      "metadata": {
        "id": "_xXPALCuGLAw"
      }
    },
    {
      "cell_type": "code",
      "source": [
        "# CDI rende diariamente, portanto a taxa deve ser diarisada \n",
        "#   calculado o percentual e depois anualizar a taxa.\n",
        "conversao_taxa_por_periodo(conversao_taxa_por_periodo(0.1, 252,1)*1.3,1,252)"
      ],
      "metadata": {
        "colab": {
          "base_uri": "https://localhost:8080/"
        },
        "id": "XkZxbkCfAPGp",
        "outputId": "c3b10ffe-a308-43ec-f391-ada639635bb8"
      },
      "execution_count": 75,
      "outputs": [
        {
          "output_type": "execute_result",
          "data": {
            "text/plain": [
              "0.13189838047615243"
            ]
          },
          "metadata": {},
          "execution_count": 75
        }
      ]
    },
    {
      "cell_type": "code",
      "source": [],
      "metadata": {
        "id": "b7w2GOt9vP5x"
      },
      "execution_count": null,
      "outputs": []
    }
  ]
}