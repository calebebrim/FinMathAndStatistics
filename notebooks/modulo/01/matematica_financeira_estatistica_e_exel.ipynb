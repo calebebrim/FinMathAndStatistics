{
  "nbformat": 4,
  "nbformat_minor": 0,
  "metadata": {
    "colab": {
      "provenance": [],
      "toc_visible": true,
      "collapsed_sections": [
        "bylOX1uPxQYj",
        "HrAwqlobpU5f",
        "RZF-ASsAxyGh",
        "BaDNAN1Y1Hbg",
        "MU85SQ9ItZh6",
        "5XHJHuRV4Eki",
        "xTZKjANltqHo",
        "MkWFZVygkDVc"
      ],
      "mount_file_id": "11ij949lf0OuwulSv4YnUKNg4q-lgxdBh",
      "authorship_tag": "ABX9TyOrCPmnQDiqjHrX6MvbiIee",
      "include_colab_link": true
    },
    "kernelspec": {
      "name": "python3",
      "display_name": "Python 3"
    },
    "language_info": {
      "name": "python"
    }
  },
  "cells": [
    {
      "cell_type": "markdown",
      "metadata": {
        "id": "view-in-github",
        "colab_type": "text"
      },
      "source": [
        "<a href=\"https://colab.research.google.com/github/calebebrim/FinMathAndStatistics/blob/main/notebooks/modulo/01/matematica_financeira_estatistica_e_exel.ipynb\" target=\"_parent\"><img src=\"https://colab.research.google.com/assets/colab-badge.svg\" alt=\"Open In Colab\"/></a>"
      ]
    },
    {
      "cell_type": "code",
      "source": [
        "!pip install numpy-financial\n",
        "\n",
        "\n",
        "import numpy as np\n",
        "import numpy_financial as npf\n",
        "np.set_printoptions(precision=8)\n"
      ],
      "metadata": {
        "colab": {
          "base_uri": "https://localhost:8080/"
        },
        "id": "C7KLhTvtEevm",
        "outputId": "0529926d-4eb4-4a36-d58f-8b313cc05c8a"
      },
      "execution_count": 1,
      "outputs": [
        {
          "output_type": "stream",
          "name": "stdout",
          "text": [
            "Looking in indexes: https://pypi.org/simple, https://us-python.pkg.dev/colab-wheels/public/simple/\n",
            "Collecting numpy-financial\n",
            "  Downloading numpy_financial-1.0.0-py3-none-any.whl (14 kB)\n",
            "Requirement already satisfied: numpy>=1.15 in /usr/local/lib/python3.8/dist-packages (from numpy-financial) (1.22.4)\n",
            "Installing collected packages: numpy-financial\n",
            "Successfully installed numpy-financial-1.0.0\n"
          ]
        }
      ]
    },
    {
      "cell_type": "markdown",
      "source": [
        "# Introdução\n",
        "\n",
        "## Conceitos Basicos\n",
        "\n",
        "### Capital\n",
        "\n",
        "Por definição o captal é um dinheiro que está sendo imprestado ou investido. De acordo com o risco do investimento o valor da taxa de juros pode aumentar ou diminuir.\n",
        "\n",
        "### Fluxo de Caixa\n",
        "Conjunto de entradas e saídas de dinheiro em um tempo. Entrada de caixa é positiva a saída é negativa. \n",
        "\n",
        "### Rentabilidade ao período. \n",
        "Ou taxa de juros ao período definido por \"(valor final/valor inicial) -1\". Esse mesmo método pode ser utilizado tanto para calcular a evolução de um ativo quanto a valorização de uma moeda. Esse calculo pode ser utilizado tanto para juros simples quanto para juros compostos. \n"
      ],
      "metadata": {
        "id": "rV9YhQ8VOJ9i"
      }
    },
    {
      "cell_type": "markdown",
      "source": [
        "# Juros Simples\n",
        "\n",
        "O pagamento de juros é fixo (mesmo valor), pois a taxa de juros sempre incide sobre o capital inicial. \n",
        "\n",
        "No caso do juros simples o valor do juros não é reincorporado no valor do capital inicial.\n",
        "\n",
        "----\n",
        "\n",
        "\n",
        "\\begin{align}\n",
        "\\mathbf{i} &= \\frac{\\mathbf{J}}{\\mathbf{C}} \\\\\\\\\n",
        "\\mathbf{M} &= C \\cdot (C\\cdot i \\cdot n) =>\\\\\\\\\n",
        "\\mathbf{M} &= C \\cdot (1+ i \\cdot n) =>\\\\\\\\\n",
        "\\mathbf{M} &= C + J \\\\\n",
        "\\end{align}\n",
        "\n",
        "----\n",
        "\n",
        "As unidades precisam sempre estar correlacionadas a taxa de juros ao mês não é a mesma que a taxa de juros ao ano\n"
      ],
      "metadata": {
        "id": "WOwYwzTlN0Dl"
      }
    },
    {
      "cell_type": "code",
      "source": [
        "def rentabilidade_juros_simples(C, i, n):\n",
        "  return C * (1+(i*n))\n",
        "\n",
        "capital = 10000\n",
        "print(\"juros simples \", capital, rentabilidade_juros_simples(capital,0.12, 1))\n",
        "print(\"juros simples \", capital, rentabilidade_juros_simples(capital,0.01, 12))"
      ],
      "metadata": {
        "id": "1QbbPLzeRnys",
        "colab": {
          "base_uri": "https://localhost:8080/"
        },
        "outputId": "3f0a1155-3749-492d-8f20-cddf1cd50890"
      },
      "execution_count": 2,
      "outputs": [
        {
          "output_type": "stream",
          "name": "stdout",
          "text": [
            "juros simples  10000 11200.000000000002\n",
            "juros simples  10000 11200.000000000002\n"
          ]
        }
      ]
    },
    {
      "cell_type": "markdown",
      "source": [
        "# Juros Compostos\n",
        "\n",
        "Mais utilizado no mercado Brasileiro, quando não pago, é incporporado no capital da dívida somando o montante sobre o qual é calculado o juro seguinte. \n",
        "\n",
        "\n",
        "Os valores de juros compostos são calculados pelas formulas de VF e VP. \n",
        "\n",
        "\\begin{align} \n",
        "\\\\ \\text{Valor Futuro}\\\\\n",
        "VF &= PU * (1+i)^{\\frac{du}{252}} \\\\\\\\\n",
        "\\\\ \\text{Valor presente} \\\\\n",
        "VP &= \\frac{VF}{ (1+i)^{\\frac{du}{252}}} \\\\\n",
        "\\end{align}\n",
        " "
      ],
      "metadata": {
        "id": "j7sNPt16OB7e"
      }
    },
    {
      "cell_type": "markdown",
      "source": [
        "## Valor Futuro\n",
        "\n",
        "Formula utilizada para projetar rendimento (VF) \\\\\n",
        "de um investimento (VP) \\\\\n",
        "com juros compostos de **i** \\\\\n",
        "à um determinado período **n**: \\\\\n",
        "\n",
        "\\begin{align} \n",
        "\\\\\n",
        "VF &= VP * (1+i)^{n} \\\\\n",
        "\\end{align}"
      ],
      "metadata": {
        "id": "e611NBXCudnL"
      }
    },
    {
      "cell_type": "code",
      "source": [
        "def VF(VP,i,n):\n",
        "  # return VP * (1+i) ** n\n",
        "  return npf.fv(i, n, 0,VP)"
      ],
      "metadata": {
        "id": "S2UNV-MlvfDR"
      },
      "execution_count": 3,
      "outputs": []
    },
    {
      "cell_type": "markdown",
      "source": [
        "## Valor Presente\n",
        "\n",
        "Formula utilizada para calcular o **valor presente** ou valor investido\\\\\n",
        "de um ativo que está rendendo **VF** \\\\\n",
        "à uma taxa de **i** \\\\\n",
        "por **n** dias:\n",
        "\n",
        "\n",
        "\\begin{align} \n",
        "\\\\\n",
        "VP &= \\frac{VF}{ (1+i)^{n}} \\\\\n",
        "\\end{align}"
      ],
      "metadata": {
        "id": "Ib5GxmWJvc7R"
      }
    },
    {
      "cell_type": "code",
      "source": [
        "def VP(VF,i,n):\n",
        "  return VF/(1+i)** n"
      ],
      "metadata": {
        "id": "6UN2jHehwjA9"
      },
      "execution_count": 4,
      "outputs": []
    },
    {
      "cell_type": "code",
      "source": [
        "\n",
        "\n",
        "\n",
        "\n",
        "\n",
        "\n",
        "\n",
        "def I(vp,vf, n):\n",
        "  return npf.rate(n,0,-vp, vf)\n",
        "\n",
        "def periodo(vp,vf,i):\n",
        "  return npf.nper(i, 1,pv=-vp, fv=vf ).tolist()\n"
      ],
      "metadata": {
        "id": "fYOIpBi5Z4g1"
      },
      "execution_count": 5,
      "outputs": []
    },
    {
      "cell_type": "code",
      "source": [
        "VF(10000,0.07,2)"
      ],
      "metadata": {
        "colab": {
          "base_uri": "https://localhost:8080/"
        },
        "id": "8mEoN7Y6bL0Y",
        "outputId": "9a01895c-e0fe-462b-9d6a-7c37519e5341"
      },
      "execution_count": 6,
      "outputs": [
        {
          "output_type": "execute_result",
          "data": {
            "text/plain": [
              "-11449.0"
            ]
          },
          "metadata": {},
          "execution_count": 6
        }
      ]
    },
    {
      "cell_type": "code",
      "source": [
        "VP(VF(10000,0.07,2), 0.07, 2)"
      ],
      "metadata": {
        "colab": {
          "base_uri": "https://localhost:8080/"
        },
        "id": "2UAFHznYblbd",
        "outputId": "8591d8cd-9579-4baa-8098-33056b1047cb"
      },
      "execution_count": 7,
      "outputs": [
        {
          "output_type": "execute_result",
          "data": {
            "text/plain": [
              "-10000.0"
            ]
          },
          "metadata": {},
          "execution_count": 7
        }
      ]
    },
    {
      "cell_type": "code",
      "source": [
        "VP(12000,0.07,2)"
      ],
      "metadata": {
        "colab": {
          "base_uri": "https://localhost:8080/"
        },
        "id": "uOmD0wpufMIg",
        "outputId": "9e26b4d9-eb05-4a61-9c78-b446533ca627"
      },
      "execution_count": 8,
      "outputs": [
        {
          "output_type": "execute_result",
          "data": {
            "text/plain": [
              "10481.26473927854"
            ]
          },
          "metadata": {},
          "execution_count": 8
        }
      ]
    },
    {
      "cell_type": "code",
      "source": [
        "# Calculando a taxa de um investimento de 1000 para receber 12000 em 2 anos\n",
        "I(10000, 12000, 2)"
      ],
      "metadata": {
        "colab": {
          "base_uri": "https://localhost:8080/"
        },
        "id": "71xH2rNbjVp0",
        "outputId": "21883e53-b3a9-465b-9259-fede9a756426"
      },
      "execution_count": 9,
      "outputs": [
        {
          "output_type": "execute_result",
          "data": {
            "text/plain": [
              "0.09544511501033222"
            ]
          },
          "metadata": {},
          "execution_count": 9
        }
      ]
    },
    {
      "cell_type": "code",
      "source": [
        "periodo(90000, 1000000,0.12)"
      ],
      "metadata": {
        "colab": {
          "base_uri": "https://localhost:8080/"
        },
        "id": "jX-wns-Ul9ym",
        "outputId": "170a2e68-eb68-4eb6-ff39-45fe3bc8a534"
      },
      "execution_count": 10,
      "outputs": [
        {
          "output_type": "execute_result",
          "data": {
            "text/plain": [
              "21.24819383230382"
            ]
          },
          "metadata": {},
          "execution_count": 10
        }
      ]
    },
    {
      "cell_type": "markdown",
      "source": [
        "## Rentabilidade do Período\n",
        "\n",
        "\n",
        "\\begin{align} \n",
        "\\mathbf{R}_p = \\frac{VP}{VF}-1 \\\\\\\\\n",
        "\\end{align}"
      ],
      "metadata": {
        "id": "bylOX1uPxQYj"
      }
    },
    {
      "cell_type": "code",
      "source": [
        "def rentabilidade_ao_periodo(vp0, vp1):\n",
        "  \"\"\" \n",
        "    Calcula a rentabilidade do período\n",
        "  \"\"\"\n",
        "  return (vp1/vp0)-1"
      ],
      "metadata": {
        "id": "kxG3_8BBxvEE"
      },
      "execution_count": 11,
      "outputs": []
    },
    {
      "cell_type": "markdown",
      "source": [
        "## Equivalencia de Taxa de Juros Compostos\n",
        "\n",
        "\\begin{align} \n",
        "\\mathbf{i}_q = (1 + \\mathbf{i}_t)^{\\frac{q}{t}}-1 \\\\\\\\\n",
        "\\end{align}\n",
        "\n",
        "Onde:\n",
        "\n",
        "q: é o periodo que eu quero expressar a taxa\n",
        "\n",
        "t: é o periodo que eu tenho a taxa, ambos na menor unidade dada\n",
        " "
      ],
      "metadata": {
        "id": "HrAwqlobpU5f"
      }
    },
    {
      "cell_type": "code",
      "source": [
        "def conversao_taxa_por_periodo(i,t,q):\n",
        "  \"\"\"\n",
        "    Converte uma taxa i de período t para o período q\n",
        "  \"\"\"\n",
        "  return  ((1+i) ** (q/t))-1"
      ],
      "metadata": {
        "id": "AWhSfyE5qkON"
      },
      "execution_count": 12,
      "outputs": []
    },
    {
      "cell_type": "markdown",
      "source": [
        "### Exemplos "
      ],
      "metadata": {
        "id": "RZF-ASsAxyGh"
      }
    },
    {
      "cell_type": "markdown",
      "source": [
        "#### Conversão de uma taxa de 13.75% ao ano convertido à uma taxa mensal\n"
      ],
      "metadata": {
        "id": "wMpSEhgwx49n"
      }
    },
    {
      "cell_type": "code",
      "source": [
        "conversao_taxa_por_periodo(0.1375,12,1)"
      ],
      "metadata": {
        "colab": {
          "base_uri": "https://localhost:8080/"
        },
        "id": "OxYfq20sr1aH",
        "outputId": "e06d25e7-83ce-4494-9833-01745a3e99d6"
      },
      "execution_count": 13,
      "outputs": [
        {
          "output_type": "execute_result",
          "data": {
            "text/plain": [
              "0.010793911082132235"
            ]
          },
          "metadata": {},
          "execution_count": 13
        }
      ]
    },
    {
      "cell_type": "markdown",
      "source": [
        "#### Conversão de uma taxa de 1% ao mês convertido ao ano"
      ],
      "metadata": {
        "id": "UpHtBbm4yBD6"
      }
    },
    {
      "cell_type": "code",
      "source": [
        "conversao_taxa_por_periodo(0.01,1,12)"
      ],
      "metadata": {
        "colab": {
          "base_uri": "https://localhost:8080/"
        },
        "id": "S0324x-qtmYE",
        "outputId": "1d121e2e-db2c-47c9-b2f2-48efe4887228"
      },
      "execution_count": 14,
      "outputs": [
        {
          "output_type": "execute_result",
          "data": {
            "text/plain": [
              "0.12682503013196977"
            ]
          },
          "metadata": {},
          "execution_count": 14
        }
      ]
    },
    {
      "cell_type": "markdown",
      "source": [
        "#### Conversão de uma taxa de 20% ao periodo de 45 dias convertido ao ano"
      ],
      "metadata": {
        "id": "LBEqlRQFyGzM"
      }
    },
    {
      "cell_type": "code",
      "source": [
        "conversao_taxa_por_periodo(0.2,45,365)"
      ],
      "metadata": {
        "colab": {
          "base_uri": "https://localhost:8080/"
        },
        "id": "bqWNpc5Mt29I",
        "outputId": "81c9767e-e5fe-4a36-abbf-5b15586e6148"
      },
      "execution_count": 15,
      "outputs": [
        {
          "output_type": "execute_result",
          "data": {
            "text/plain": [
              "3.387810717581835"
            ]
          },
          "metadata": {},
          "execution_count": 15
        }
      ]
    },
    {
      "cell_type": "markdown",
      "source": [
        "####  Conversão da taxa selic ao dia"
      ],
      "metadata": {
        "id": "rbH_pjmMyeP8"
      }
    },
    {
      "cell_type": "code",
      "source": [
        "print(f\"{conversao_taxa_por_periodo(0.1175,252,1)*100}% ao dia\")"
      ],
      "metadata": {
        "colab": {
          "base_uri": "https://localhost:8080/"
        },
        "id": "lxzX44SxuYdW",
        "outputId": "2cef805f-bee1-489d-b7c8-6608edacc25a"
      },
      "execution_count": 16,
      "outputs": [
        {
          "output_type": "stream",
          "name": "stdout",
          "text": [
            "0.04409465832391213% ao dia\n"
          ]
        }
      ]
    },
    {
      "cell_type": "markdown",
      "source": [
        "#### Compra de um título LTN por 400. Depois de 13 meses, vendo a LTN por 700. \n",
        "Qual foi meu ganho ao período? Qual foi a minha rentabilidade média ao a.a e a.m"
      ],
      "metadata": {
        "id": "kD5wCgUGykYJ"
      }
    },
    {
      "cell_type": "code",
      "source": [
        "\n",
        "\n",
        "\n",
        "VP = 400\n",
        "VF = 700\n",
        "periodo = 13 \n",
        "rentabilidade = rentabilidade_ao_periodo(VP,VF)\n",
        "\n",
        "rentabilidade_aa = conversao_taxa_por_periodo(rentabilidade, periodo, 12)\n",
        "rentabilidade_am = conversao_taxa_por_periodo(rentabilidade, periodo, 1)\n",
        "print(\"rentabilidade\", rentabilidade)\n",
        "print(\"rentabilidade ao ano\", rentabilidade_aa)\n",
        "print(\"rentabilidade ao mês\", rentabilidade_am)"
      ],
      "metadata": {
        "colab": {
          "base_uri": "https://localhost:8080/"
        },
        "id": "Uy1GzlyRu82f",
        "outputId": "0eb01a4b-8e26-429b-e457-695f46bcb3a6"
      },
      "execution_count": 17,
      "outputs": [
        {
          "output_type": "stream",
          "name": "stdout",
          "text": [
            "rentabilidade 0.75\n",
            "rentabilidade ao ano 0.6762655288836892\n",
            "rentabilidade ao mês 0.0439873455880313\n"
          ]
        }
      ]
    },
    {
      "cell_type": "markdown",
      "source": [
        "#### Rendimento de uma ação de 19 reais\n",
        "Comprei uma ação por 19.00 em 22/01. No dia 3/4 a ação está valendo 25.\n",
        "Qual é o retorno sobre o meu investimento no período? \n",
        "Qual é a média de retorno do investimento ao ano e ao mês?"
      ],
      "metadata": {
        "id": "rXDOfbi_yyY4"
      }
    },
    {
      "cell_type": "code",
      "source": [
        "VP = 19\n",
        "VF = 25\n",
        "periodo = 40 \n",
        "rentabilidade = rentabilidade_ao_periodo(VP,VF)\n",
        "\n",
        "rentabilidade_aa = conversao_taxa_por_periodo(rentabilidade, periodo, 360)\n",
        "rentabilidade_am = conversao_taxa_por_periodo(rentabilidade, periodo, 30)\n",
        "print(\"rentabilidade\", rentabilidade)\n",
        "print(\"rentabilidade ao ano\", rentabilidade_aa)\n",
        "print(\"rentabilidade ao mês\", rentabilidade_am)"
      ],
      "metadata": {
        "colab": {
          "base_uri": "https://localhost:8080/"
        },
        "id": "cOtgs7jDxZyZ",
        "outputId": "ccaacb3f-6a51-4755-a94c-2ec3ce2c98a0"
      },
      "execution_count": 18,
      "outputs": [
        {
          "output_type": "stream",
          "name": "stdout",
          "text": [
            "rentabilidade 0.3157894736842106\n",
            "rentabilidade ao ano 10.821638357708897\n",
            "rentabilidade ao mês 0.22854142731212646\n"
          ]
        }
      ]
    },
    {
      "cell_type": "markdown",
      "source": [
        "## Rentabilidades como % do CDI\n",
        "\n",
        "Aplicações baseadas na taxa CDI rendem diariamente. Algumas aplicações pagam o CDI ou um percentual dessa taxa."
      ],
      "metadata": {
        "id": "Zqbw3Z3Xz_ws"
      }
    },
    {
      "cell_type": "markdown",
      "source": [
        "### Exemplos"
      ],
      "metadata": {
        "id": "fW3NHNiTtz_b"
      }
    },
    {
      "cell_type": "markdown",
      "source": [
        "#### Exemplo 1\n",
        " Considerando um investimento de R$20000 por 2 dias rendendo 95% do CDI. \n",
        "\n",
        "dia 1 = 10.03% \\\\\n",
        "dia 2 = 10.19% \\\\"
      ],
      "metadata": {
        "id": "bQ-kwvGMGaSG"
      }
    },
    {
      "cell_type": "code",
      "source": [
        "\n",
        "\n",
        "investimento = 20000\n",
        "percentual_cdi = 0.95\n",
        "\n",
        "cdi_aa = np.array([0.1003, 0.1019], dtype= np.double)\n",
        "cdi_ad = conversao_taxa_por_periodo(cdi_aa,252,1)\n",
        "cdi_percentual_ad = percentual_cdi*cdi_ad\n",
        "\n",
        "taxa_ao_periodo = np.prod(cdi_percentual_ad+1)-1\n",
        "taxa_ao_ano = conversao_taxa_por_periodo(taxa_ao_periodo,2,252)\n",
        "\n",
        "rentabilidade_ao_periodo = investimento*(1+taxa_ao_periodo)\n",
        "rentabilidade_projetada_ano = investimento*(1+taxa_ao_ano)\n",
        "\n",
        "print(\"cdi ao dia: \", cdi_ad)\n",
        "print(\"cdi percentual ao dia: \", cdi_percentual_ad)\n",
        "print(\"taxa ao periodo\",taxa_ao_periodo)\n",
        "print(\"taxa ao ano util\",taxa_ao_ano)\n",
        "print(\"rentabilidade ao período:\", rentabilidade_ao_periodo)\n",
        "print(\"rentabilidade projetada ao ano:\", rentabilidade_projetada_ano)\n",
        "\n"
      ],
      "metadata": {
        "colab": {
          "base_uri": "https://localhost:8080/"
        },
        "id": "GYaarm0N9jG7",
        "outputId": "a6f993ea-25ed-4c19-a8e4-7f64ce8b26c6"
      },
      "execution_count": 19,
      "outputs": [
        {
          "output_type": "stream",
          "name": "stdout",
          "text": [
            "cdi ao dia:  [0.00037937 0.00038514]\n",
            "cdi percentual ao dia:  [0.0003604  0.00036588]\n",
            "taxa ao periodo 0.0007264130715558537\n",
            "taxa ao ano util 0.09581109985192637\n",
            "rentabilidade ao período: 20014.528261431118\n",
            "rentabilidade projetada ao ano: 21916.221997038527\n"
          ]
        }
      ]
    },
    {
      "cell_type": "markdown",
      "source": [
        "#### Exemplo 2\n",
        "\n",
        "Um CDB rende 130% CDI. Na Curva de Juros a taxa pré está em 10% a.a para 1 ano.\n",
        "Qual seria a taxa equivalente para 130% do CDI?"
      ],
      "metadata": {
        "id": "_xXPALCuGLAw"
      }
    },
    {
      "cell_type": "code",
      "source": [
        "# CDI rende diariamente, portanto a taxa deve ser diarisada \n",
        "#   calculado o percentual e depois anualizar a taxa.\n",
        "conversao_taxa_por_periodo(conversao_taxa_por_periodo(0.1, 252,1)*1.3,1,252)"
      ],
      "metadata": {
        "colab": {
          "base_uri": "https://localhost:8080/"
        },
        "id": "XkZxbkCfAPGp",
        "outputId": "9b8f0d0b-e8f8-42c1-d2d4-d535cb011747"
      },
      "execution_count": 20,
      "outputs": [
        {
          "output_type": "execute_result",
          "data": {
            "text/plain": [
              "0.13189838047615243"
            ]
          },
          "metadata": {},
          "execution_count": 20
        }
      ]
    },
    {
      "cell_type": "markdown",
      "source": [
        "## Calculo do lucro líquido de IR\n",
        "\n",
        "\n"
      ],
      "metadata": {
        "id": "U21Z2p__yNsl"
      }
    },
    {
      "cell_type": "markdown",
      "source": [
        "### Aliquota de IR\n",
        "\n",
        "Aliquota de IR para aplicações: \n",
        "\n",
        "\n",
        "Meses | Aliquota\n",
        "--- | :---:\n",
        "< 6 | 22.5% \n",
        "6-12 | 20% \n",
        "12-24 |  17%\n",
        "24> | 15%"
      ],
      "metadata": {
        "id": "68-jzoZ2scij"
      }
    },
    {
      "cell_type": "markdown",
      "source": [
        "### Rentabilidade Líquida\n",
        "\n",
        "Formula para rentabilidade líquida\n",
        "\n",
        "\\begin{align} \n",
        "\\mathbf{i}_{liquida} = \\mathbf{i}_{bruta} * (1 - \\mathbf{aliquota}) \\\\\\\\\n",
        "\\end{align}\n",
        "\n",
        "\n",
        "\n",
        "\n"
      ],
      "metadata": {
        "id": "BaDNAN1Y1Hbg"
      }
    },
    {
      "cell_type": "code",
      "source": [
        "def i_liq(i_b,aliquota):\n",
        "  return i_b*(1-aliquota)"
      ],
      "metadata": {
        "id": "MqBbvm7TsG4x"
      },
      "execution_count": 21,
      "outputs": []
    },
    {
      "cell_type": "markdown",
      "source": [
        "#### Exemplos"
      ],
      "metadata": {
        "id": "MU85SQ9ItZh6"
      }
    },
    {
      "cell_type": "markdown",
      "source": [
        "##### Exemplo Investimento CDB 10% a.**a**\n",
        "Investi num CDB que paga 10% a.a. Se eu mantiver o dinheiro aplicado por:\n",
        "- 5 meses\n",
        "- 7 meses\n",
        "- 14 meses\n",
        "- 28 meses\n",
        "Quais serão minhas rentabilidades liquidas respectivamente?"
      ],
      "metadata": {
        "id": "GlNGaP7ur8na"
      }
    },
    {
      "cell_type": "code",
      "source": [
        "\n",
        "\n",
        "print(\"5 meses:\",i_liq(0.1,0.225))\n",
        "print(\"7 meses:\",i_liq(0.1,0.2))\n",
        "print(\"14 meses:\",i_liq(0.1,0.17))\n",
        "print(\"24 meses:\",i_liq(0.1,0.15))\n"
      ],
      "metadata": {
        "colab": {
          "base_uri": "https://localhost:8080/"
        },
        "id": "b7w2GOt9vP5x",
        "outputId": "4e02a090-e803-42a1-a3d3-ec23c66ba1b6"
      },
      "execution_count": 22,
      "outputs": [
        {
          "output_type": "stream",
          "name": "stdout",
          "text": [
            "5 meses: 0.07750000000000001\n",
            "7 meses: 0.08000000000000002\n",
            "14 meses: 0.083\n",
            "24 meses: 0.085\n"
          ]
        }
      ]
    },
    {
      "cell_type": "markdown",
      "source": [
        "### Rentabilidade Bruta\n",
        "\n",
        "\\begin{align} \n",
        "\\mathbf{i}_{bruta} = \\frac{ \\mathbf{i}_{liquida}}{ (1 - \\mathbf{aliquota})} \\\\\\\\\n",
        "\\end{align}\n"
      ],
      "metadata": {
        "id": "5XHJHuRV4Eki"
      }
    },
    {
      "cell_type": "code",
      "source": [
        "def i_bruto(i_l, aliquota):\n",
        "  return i_l/(1-aliquota)"
      ],
      "metadata": {
        "id": "lK5Vekx-sJtk"
      },
      "execution_count": 23,
      "outputs": []
    },
    {
      "cell_type": "markdown",
      "source": [
        "#### Exemplos"
      ],
      "metadata": {
        "id": "xTZKjANltqHo"
      }
    },
    {
      "cell_type": "markdown",
      "source": [
        "##### Exemplo LCA pagando 102% do CDI\n",
        "\n",
        "Tendo uma LCA pagando 102% CDI qual é a taxa bruta para:\n",
        "- 5 meses\n",
        "- 7 meses\n",
        "- 14 meses\n",
        "- 28 meses\n"
      ],
      "metadata": {
        "id": "AKuzACERsqTY"
      }
    },
    {
      "cell_type": "code",
      "source": [
        "print(\"5 meses:\",i_bruto(1.02,0.225))\n",
        "print(\"7 meses:\",i_bruto(1.02,0.2))\n",
        "print(\"14 meses:\",i_bruto(1.02,0.17))\n",
        "print(\"24 meses:\",i_bruto(1.02,0.15))"
      ],
      "metadata": {
        "colab": {
          "base_uri": "https://localhost:8080/"
        },
        "id": "xz8-yMub457m",
        "outputId": "d8a0087e-9170-4d77-b948-c55d5f827f75"
      },
      "execution_count": 24,
      "outputs": [
        {
          "output_type": "stream",
          "name": "stdout",
          "text": [
            "5 meses: 1.3161290322580645\n",
            "7 meses: 1.275\n",
            "14 meses: 1.2289156626506026\n",
            "24 meses: 1.2\n"
          ]
        }
      ]
    },
    {
      "cell_type": "markdown",
      "source": [
        "## Taxa de Juros Real e Inflação\n",
        "\n",
        "O calculo para chegar a **taxa de juros real**, ou de rentabilidade de um título, é necessário descontar a **taxa de inflação**. \n",
        "\n",
        "A inflação é diaria e por isso precisamos usar a fórmula para somar taxas para chegar ao valor da taxa. \n",
        "Para calcular a **taxa de inflação** é uma somatória de todas as taxas do período.\n",
        " \n",
        "\n",
        "\n",
        "\n",
        "Onde: \n",
        "\n",
        "Os indicadores de infação: \n",
        " - IPCA, \n",
        " - IPC-Fipe, \n",
        " - IGPs\n",
        "\n",
        "\n",
        "\n"
      ],
      "metadata": {
        "id": "TpbftTfr6WdR"
      }
    },
    {
      "cell_type": "markdown",
      "source": [
        "### Subtração de Taxas\n",
        "Toda subtração de taxa é uma divisão e a formula obedece a seguinte regra: \n",
        "\n",
        "\\begin{align} \n",
        "\\\\\n",
        "\\mathbf{i} = \\frac{ 1+\\mathbf{i}_{nominal}}{ (1 + \\mathbf{i_{sub}})}-1 \n",
        "\\\\\n",
        "\\\\\n",
        "\\end{align}\n",
        "\n",
        "Tendo: \n",
        "\n",
        "r = taxa de juros reais \\\\\n",
        "i = taxa de juros nominais \\\\\n",
        "isub = taxa que eu quero subtrair \\\\"
      ],
      "metadata": {
        "id": "u4ml-K4qaMl8"
      }
    },
    {
      "cell_type": "code",
      "source": [
        "def subtrair_taxa(i_1,i_2):\n",
        "  return ((1+i_1)/(1+i_2))-1"
      ],
      "metadata": {
        "id": "30PX97YTtOHc"
      },
      "execution_count": 25,
      "outputs": []
    },
    {
      "cell_type": "markdown",
      "source": [
        "### Somatoria de taxas\n",
        "\n",
        "\\begin{align} \n",
        "\\mathbf{I_{sum}} = (\\prod_{m=m0}^{n} 1+\\mathbf{i}_{m})-1 \\\\\\\\\n",
        "\\end{align}\n",
        "\n",
        "Onde: \n",
        "\n",
        "'i' é a métrica de inflação e varia de acordo com o mês \\\\\n",
        "'m' é o indicador do mês \\\\\n",
        "'m0' é o identificador do mês inicial \\\\\n",
        "'n' é a quantidade de meses consecutivos após m0 \\\\"
      ],
      "metadata": {
        "id": "53qDaEbxaTAf"
      }
    },
    {
      "cell_type": "markdown",
      "source": [],
      "metadata": {
        "id": "ENI-EnzaaOOS"
      }
    },
    {
      "cell_type": "code",
      "source": [
        "def somar_taxa(i_list: list):\n",
        "  return np.prod(np.array(i_list)+1)-1"
      ],
      "metadata": {
        "id": "giCIidqKCRaw"
      },
      "execution_count": 26,
      "outputs": []
    },
    {
      "cell_type": "markdown",
      "source": [
        "### Exemplos"
      ],
      "metadata": {
        "id": "I4IPsq1OtCYO"
      }
    },
    {
      "cell_type": "markdown",
      "source": [
        "#### Exemplo: investindo 16000 no CDB\n",
        "Exemplo foi investido 16000 em um CDB que rendeu 0.60%, 0.50%, e 0.45% nos três primeiros meses do anos. \n",
        "\n",
        "Qual é o montanto no final do terceiro mês? \\\\\n",
        "Qual é a rentabilidade média do CDB ao mês? e ao ano?"
      ],
      "metadata": {
        "id": "THDqNJZfbQDa"
      }
    },
    {
      "cell_type": "code",
      "source": [
        "# \n",
        "\n",
        "vp = 16000\n",
        "ip = [0.006, 0.005, 0.0045]\n",
        "# i = somar_taxa(ip)\n",
        "i = np.prod(np.array(ip)+1)-1\n",
        "iaa = (1+i) ** (12/3) -1\n",
        "iam = (1+i) ** (1/3) -1\n",
        "print(\"Taxa ao periodo\", i)\n",
        "print(\"Rentabilidade: \",vp+ vp*i)\n",
        "print(\"Rentabilidade ao ano\", iaa)\n",
        "print(\"Rentabilidade ao mês\", iam)"
      ],
      "metadata": {
        "colab": {
          "base_uri": "https://localhost:8080/"
        },
        "id": "z_5tMDMgDO7g",
        "outputId": "3206dcf0-aafd-4a31-e6cb-b8c990d0557b"
      },
      "execution_count": 27,
      "outputs": [
        {
          "output_type": "stream",
          "name": "stdout",
          "text": [
            "Taxa ao periodo 0.015579634999999925\n",
            "Rentabilidade:  16249.274159999999\n",
            "Rentabilidade ao ano 0.06379007534512504\n",
            "Rentabilidade ao mês 0.0051664732521983225\n"
          ]
        }
      ]
    },
    {
      "cell_type": "markdown",
      "source": [
        "#### Exemplo: Investimento CDB 12% aa prefixado\n",
        "Um investidor aplicou num CDB que paga 12% de juros a.a prefixado. \n",
        "A inflação foi de 6%. Qual foi a taxa de juros real da aplicação?"
      ],
      "metadata": {
        "id": "u8UJ8eL_b-AF"
      }
    },
    {
      "cell_type": "code",
      "source": [
        "\n",
        "\n",
        "i = 0.12\n",
        "inflacao = 0.06\n",
        "taxa_real = subtrair_taxa(i,inflacao)\n",
        "print(\"Taxa do título ao periodo\", i)\n",
        "print(\"Taxa da inflação\", inflacao)\n",
        "print(\"Taxa de juros real\", taxa_real)\n"
      ],
      "metadata": {
        "colab": {
          "base_uri": "https://localhost:8080/"
        },
        "id": "_lLDCVGCV2qP",
        "outputId": "c58e2df1-c2fa-4fa8-84bb-2da43da5ea43"
      },
      "execution_count": 28,
      "outputs": [
        {
          "output_type": "stream",
          "name": "stdout",
          "text": [
            "Taxa do título ao periodo 0.12\n",
            "Taxa da inflação 0.06\n",
            "Taxa de juros real 0.05660377358490565\n"
          ]
        }
      ]
    },
    {
      "cell_type": "markdown",
      "source": [
        "#### Exemplo: CDB IPCA + 5% a.a por 2a\n",
        "Foi aplicado 10000 num CDB que paga IPCA + 5% a.a por 2 anos. O IPCA do primeiro ano foi de 3% e de 4% no segundo ano. Qual foi a rentabilidade da operação no período e na média a.a?"
      ],
      "metadata": {
        "id": "KR1gpYg9cOTv"
      }
    },
    {
      "cell_type": "code",
      "source": [
        "vp = 10000\n",
        "ipca = np.array([0.03, 0.04])\n",
        "\n",
        "i = 0.05\n",
        "ipcaI = (1+ipca)*(1+np.array(np.ones(2)*0.05))-1\n",
        "ipca_ap = np.prod(1+ipcaI)-1\n",
        "ipca_aa = (1+ipca_ap) **(1/2) -1\n",
        "print(\"IPCA\",ipca)\n",
        "print(\"IPCA+5%\",ipcaI)\n",
        "print(\"IPCA+5% ao periodo\",ipca_ap)\n",
        "print(\"IPCA+5% ao ano\",ipca_aa)\n",
        "\n",
        "print(\"Rentabilidade ao período\", vp*(1+ipca_ap))\n",
        "print(\"Rentabilidade ao ano\", vp*(1+ipca_aa))\n",
        "\n",
        "\n",
        "\n",
        "\n"
      ],
      "metadata": {
        "colab": {
          "base_uri": "https://localhost:8080/"
        },
        "id": "Yv6BkRNzV-vg",
        "outputId": "335b76ab-6911-49eb-d6a7-4d985d0c8465"
      },
      "execution_count": 29,
      "outputs": [
        {
          "output_type": "stream",
          "name": "stdout",
          "text": [
            "IPCA [0.03 0.04]\n",
            "IPCA+5% [0.0815 0.092 ]\n",
            "IPCA+5% ao periodo 0.18099800000000021\n",
            "IPCA+5% ao ano 0.08673731876659141\n",
            "Rentabilidade ao período 11809.980000000001\n",
            "Rentabilidade ao ano 10867.373187665915\n"
          ]
        }
      ]
    },
    {
      "cell_type": "markdown",
      "source": [
        "#### Calculando a Taxa Liquida e Real\n",
        "\n",
        "Calculando a rentabilidade Real de uma taxa bruta de 12% aa, e o período de aplicação é 1 ano. Nesse período de 1 ano a inflação é de 5%\n",
        "\n",
        "\n",
        "\n"
      ],
      "metadata": {
        "id": "DKFLGtfVeQwS"
      }
    },
    {
      "cell_type": "code",
      "source": [
        "ib = 0.12\n",
        "aliquota = 0.2 # 1-12 20%\n",
        "inflacao = 0.05\n",
        "iliq = ib*(1-aliquota) \n",
        "ireal = ((1+iliq)/(1+inflacao))-1\n",
        "print(\"taxa bruta\", ib)\n",
        "print(\"taxa liquida\",iliq)\n",
        "print(\"taxa liquida e real\", ireal)"
      ],
      "metadata": {
        "id": "MnV8Zgd0m5nZ",
        "colab": {
          "base_uri": "https://localhost:8080/"
        },
        "outputId": "64ed8f0c-4bc3-469c-94f2-ce2f85b6f269"
      },
      "execution_count": 30,
      "outputs": [
        {
          "output_type": "stream",
          "name": "stdout",
          "text": [
            "taxa bruta 0.12\n",
            "taxa liquida 0.096\n",
            "taxa liquida e real 0.04380952380952374\n"
          ]
        }
      ]
    },
    {
      "cell_type": "code",
      "source": [],
      "metadata": {
        "id": "1TGNayqJfFAm"
      },
      "execution_count": 30,
      "outputs": []
    },
    {
      "cell_type": "markdown",
      "source": [
        "## Montante com aportes periódicos\n",
        "\n",
        "\n",
        "Séries de pagamentos com fluxos iguais\n",
        "\n",
        "Temos 2 tipos de séries: \n",
        "- Póstecipadas\n",
        "- Antecipada\n",
        "\n"
      ],
      "metadata": {
        "id": "GZ0iBToaf7Nz"
      }
    },
    {
      "cell_type": "markdown",
      "source": [
        "### Exemplos:  "
      ],
      "metadata": {
        "id": "e-F-bPCLiYw6"
      }
    },
    {
      "cell_type": "markdown",
      "source": [
        "#### Exemplo: Financiamento (VF com aportes periódicos)\n",
        "\n",
        "Pretendo investir 1000 todo mês por 5 anos. A taxa de juros mensal é de 0.5% a.m. Começarei a investir a partir do próximo mês. Ao final de 5 anos, qual será o montante acumulado?\n"
      ],
      "metadata": {
        "id": "OHb7gcWCiew_"
      }
    },
    {
      "cell_type": "code",
      "source": [
        "pgto = 1000\n",
        "taxa = 0.005\n",
        "n = 60\n",
        "npf.fv(rate=taxa,nper=n,pmt=-pgto,pv=0, when='end')"
      ],
      "metadata": {
        "colab": {
          "base_uri": "https://localhost:8080/"
        },
        "id": "7GK002xBiy_5",
        "outputId": "06463c92-a9bd-4054-b573-c0979f9bb1ae"
      },
      "execution_count": 31,
      "outputs": [
        {
          "output_type": "execute_result",
          "data": {
            "text/plain": [
              "69770.0305098615"
            ]
          },
          "metadata": {},
          "execution_count": 31
        }
      ]
    },
    {
      "cell_type": "markdown",
      "source": [
        "#### Exemplo: Aposentadoria\n",
        "\n",
        "Você tem 40 anos, vai se aposentar com 65 anos de idade e vai viver mais 20 anos de idade. \n",
        "Imagine que vc queira ter uma renda anual de 60000 a valores de hoje (sem inflação). Quanto deveria ser investido anualmente para conseguir ter uma renda anual de 60000 a partir do seu momento de aposentadoria?\n",
        "\n",
        "\n",
        "\n",
        "\n",
        "\n"
      ],
      "metadata": {
        "id": "jxplXEFSBdNp"
      }
    },
    {
      "cell_type": "code",
      "source": [
        "#paiment\n",
        "pmt = 60000\n",
        "n_anos = 20\n",
        "taxa_nominal = 0.1\n",
        "inflacao = 0.05\n",
        "\n",
        "taxa_descontada_inflacao = ((1+taxa_nominal)/(1+inflacao))-1\n",
        "\n",
        "pv = npf.pv(pmt=pmt, nper=n_anos,rate=taxa_descontada_inflacao)\n",
        "\n",
        "\n",
        "print(\"Taxa: \", taxa_descontada_inflacao)\n",
        "print(\"Taxa descontada inflacao: \", taxa_descontada_inflacao)\n",
        "print(\"Valor presente: \", pv)\n",
        "\n",
        "idade=40\n",
        "idade_aposentadoria=65\n",
        "n_ate = idade_aposentadoria-idade\n",
        "caixa_aposentadoria = pv\n",
        "\n",
        "pagamentos = npf.pmt(rate=taxa_descontada_inflacao,nper=n_ate,fv=-caixa_aposentadoria, pv=0)\n",
        "\n",
        "print(\"Numero de pagamentos\", n_ate)\n",
        "print(\"Pagamento anual:\", pagamentos)\n",
        "\n",
        "n_ate_mensal = n_ate*12\n",
        "taxa_descontada_inflacao_mensal = (1+taxa_descontada_inflacao) **(1/12)-1\n",
        "\n",
        "print(\"Numero de aportes mensais\", n_ate_mensal)\n",
        "print(\"Taxa mensal\", taxa_descontada_inflacao_mensal)\n",
        "\n",
        "pagamentos_mensais = npf.pmt(rate=taxa_descontada_inflacao_mensal, nper=n_ate_mensal,pv=0, fv=-caixa_aposentadoria)\n",
        "print(\"Pagamentos mensais: \", pagamentos_mensais)"
      ],
      "metadata": {
        "colab": {
          "base_uri": "https://localhost:8080/"
        },
        "id": "rweUBR4QCQLF",
        "outputId": "351dea09-513f-446f-ebcb-275a7520c4fe"
      },
      "execution_count": 32,
      "outputs": [
        {
          "output_type": "stream",
          "name": "stdout",
          "text": [
            "Taxa:  0.04761904761904767\n",
            "Taxa descontada inflacao:  0.04761904761904767\n",
            "Valor presente:  -763061.2956277902\n",
            "Numero de pagamentos 25\n",
            "Pagamento anual: -16520.092438963475\n",
            "Numero de aportes mensais 300\n",
            "Taxa mensal 0.003884191966385009\n",
            "Pagamentos mensais:  -1347.5114170425106\n"
          ]
        }
      ]
    },
    {
      "cell_type": "markdown",
      "source": [
        "#### Exemplos: Aportes Antecipados\n",
        "\n",
        "Supondo que eu queira acumular 1 Milhão de reais em 10 anos com aportes mensais. A taxa de rendimento à 0.5% a.m."
      ],
      "metadata": {
        "id": "yQKVCpeJIPBM"
      }
    },
    {
      "cell_type": "code",
      "source": [
        "npf.pmt(rate=0.005,nper=120,fv=1000000, pv=0,when=1)"
      ],
      "metadata": {
        "colab": {
          "base_uri": "https://localhost:8080/"
        },
        "id": "gCcgrN9QIODg",
        "outputId": "de02f659-cf15-4671-bc50-f918046b8021"
      },
      "execution_count": 33,
      "outputs": [
        {
          "output_type": "execute_result",
          "data": {
            "text/plain": [
              "-6071.691735487681"
            ]
          },
          "metadata": {},
          "execution_count": 33
        }
      ]
    },
    {
      "cell_type": "markdown",
      "source": [
        "## Matematica financeira para Curva de Juros\n",
        "\n",
        "\n",
        "Em finanças, a **curva de juros** pode ser entendida como as expectativas dos rendimentos médiaos de títulos públicos prefixados sem cupom (sem pagamentos semestrais), a partit de contratos futuros de juros (ou **DI**)\n",
        "\n",
        "O contrato de **DI** futuro é um acordo de compra ou venda atrelado à taxa DI. Os resultados se dão por ajustes diários em relação ao índice. \n",
        "\n"
      ],
      "metadata": {
        "id": "NIa0dJP-KSeC"
      }
    },
    {
      "cell_type": "markdown",
      "source": [
        "### Técnica de interpolação\n",
        "\n",
        "anbima: https://www.anbima.com.br/pt_br/informar/curvas-de-juros-fechamento.htm\n",
        "\n",
        "\n",
        "\\begin{align} \n",
        "\\mathbf{i} = \\mathbf{i_1}+(\\mathbf{h}-\\mathbf{t1})*\\frac{(\\mathbf{i_2}-\\mathbf{i_1})}{\\mathbf{t_2}-\\mathbf{t_1}}\n",
        "\\end{align}"
      ],
      "metadata": {
        "id": "w_k4-fAyRP4Q"
      }
    },
    {
      "cell_type": "code",
      "source": [
        "\n",
        "h = 300\n",
        "\n",
        "t1 = 252\n",
        "t2 = 378\n",
        "\n",
        "i1 = 0.1195\n",
        "i2 = 0.1175\n",
        "\n",
        "def interpolacao(h,t1,t2,i1,i2):\n",
        "  delta_i = (i2-i1) # variação de taxas entre as duas datas mais próximas do objetivo\n",
        "  delta_t = (t2-t1) # variação de dias entre as duas datas mais próximas do objetivo\n",
        "  proporcao = delta_i/delta_t # proporção entre a variação de taxa e a variação de dias gerando a proporção da variação por dia. \n",
        "  delta_tO = (h-t1) # variacao de dias entre a data inicio e o objetivo\n",
        "  delta_iO = (delta_tO*proporcao) # calcula a variacao da taxa para o intervalo objetivo\n",
        "  iO = i1+ delta_iO # soma a taxa base à variação do intevalo objetivo\n",
        "\n",
        "  return iO\n",
        "\n",
        "\n",
        "print(interpolacao(h,t1,t2,i1,i2))"
      ],
      "metadata": {
        "colab": {
          "base_uri": "https://localhost:8080/"
        },
        "id": "tc0tS4XORNjA",
        "outputId": "bb3ef8c9-d87b-42ce-8518-23f796421562"
      },
      "execution_count": 34,
      "outputs": [
        {
          "output_type": "stream",
          "name": "stdout",
          "text": [
            "0.11873809523809523\n"
          ]
        }
      ]
    },
    {
      "cell_type": "markdown",
      "source": [
        "## Matematica Financeira para Valuation\n",
        "\n"
      ],
      "metadata": {
        "id": "YA0M4R6wcWiM"
      }
    },
    {
      "cell_type": "markdown",
      "source": [
        "### Títulos perpétuos\n",
        "\n",
        "Nos EUA existem títulos que não possuem data de vencimento. Também é possível considerar como título perpétuo a compra de uma ação, quando não consideramos que essa empresa irá falir. \n",
        "\n",
        "Normalmente, para realizar o valuation das contas de uma empresa é utilizado o intervalo de 10 anos para projeção, após esse período entra o conceito de perpetuidade. \n",
        "\n",
        "Sendo assim a equação para trazer, títulos perpétuos com pagamentos constantes, a valor presente segue a seguinte formula: \n",
        "\n",
        "\\begin{align} \n",
        "\\\\\n",
        "\\mathbf{VP} = \\mathbf{FC_1/i}\n",
        "\\\\\n",
        "\\end{align}\n",
        "\n",
        "\n",
        "Quando constatamos um crescimento da taxa percentual dos pagamentos constantes considere: \n",
        "\n",
        "\\begin{align} \n",
        "\\\\\n",
        "\\mathbf{VP} = \\frac{\\mathbf{FC_{1ano}}}{\\mathbf{i}-\\mathbf{g}}\n",
        "\\\\\n",
        "\\end{align}\n",
        "\n",
        "\n",
        "Onde: \\\\\n",
        "FC = Fluxo de caixa \\\\\n",
        "g = growth rate ( taxa de crescimento )"
      ],
      "metadata": {
        "id": "4rWpjnv2clfI"
      }
    },
    {
      "cell_type": "markdown",
      "source": [
        "#### Exemplo: Valuation aplicado em ações.\n",
        "\n",
        "Você está avaliando uma empresa. Você projeta que ao final do ano essa empresa terá um fluxo de caixa operacional de 5 bilhões. No ano 2, 9 bilhões. No anto 3, 13 bilhões. No ano 4, 11 bilhões e no ano 5, 10 bilhões. A partir do início do ano 6 (fim do ano 5), a empresa crescerá a uma taxa constante de 3% a.a perpetuamente. O custo de capital é de 12%. Suponha que esta empresa tenha 50 bilhões de divida e 4 bilhões de ações. O preço da ação desta empresa no mercado é de 15 reais. "
      ],
      "metadata": {
        "id": "1_A-Hn-6kosv"
      }
    },
    {
      "cell_type": "code",
      "source": [
        "import numpy as np\n",
        "\n",
        "# todos os valores estão calculados na escala de bilhão\n",
        "fluxo_caixa = np.array([5, 9, 13, 11, 10], dtype=float)\n",
        "g=0.03\n",
        "i = 0.12 \n",
        "k = i\n",
        "custo_acao = 15\n",
        "n_acoes = 4\n",
        "dividas = 50\n",
        "\n",
        "\n",
        "# Para trazer o valor perpetuo é necessário calcular o valor presente partindo do\n",
        "#  ano n+1 à n+0 que é o ultimo ano do fluxo de caixa projetado. \n",
        "fcp0 = fluxo_caixa[-1]*(1+g) \n",
        "\n",
        "# Formula valor presente para títulos perpétuos\n",
        "vpp0 = fcp0/(k-g) \n",
        "\n",
        "# Somatória do valor presente para fluxo perpétuo somado ao valor presente \n",
        "# do último ano do valor projetado. \n",
        "fluxo_caixa[-1] = fluxo_caixa[-1]+vpp0 \n",
        "\n",
        "## Usando a formula do valor presente para todos os anos do fluxo projetado +\n",
        "# o valor presente do fluxo perpétuo já adicionado ao quinto ano\n",
        "vp = fluxo_caixa/np.power((1+i), np.array(range(5))+1)\n",
        "\n",
        "# calculando a soma de todos os valores presentes\n",
        "valor_negocio = np.sum(vp)\n",
        "\n",
        "\n",
        "valor_empresa = valor_negocio-dividas\n",
        "\n",
        "# o valor da acao aqui está novamente na escala de decimal\n",
        "valor_acao = valor_empresa/n_acoes\n",
        "\n",
        "print(f\"Valor presente do fluxo de caixa perpetuo:{vpp0} bi\")\n",
        "print(f\"Valor presente do fluxo projetado + perpetuo: {vp} bi\")\n",
        "print(f\"Valor de negócio: {valor_negocio} bi\")\n",
        "print(f\"Dividas: {dividas} bi\")\n",
        "print(f\"Valor da empresa: {valor_empresa}bi\")\n",
        "print(f\"Valor da ação: R$ {valor_acao}\")\n",
        "print(f\"Custo da ação: R$ {custo_acao}\")\n",
        "print(f\"Comprar as ações: {'sim' if valor_acao>custo_acao else 'não'}\")"
      ],
      "metadata": {
        "id": "tUcIm82Ecki4",
        "colab": {
          "base_uri": "https://localhost:8080/"
        },
        "outputId": "c007370c-501e-413b-e7b6-6a0b3337273e"
      },
      "execution_count": 35,
      "outputs": [
        {
          "output_type": "stream",
          "name": "stdout",
          "text": [
            "Valor presente do fluxo de caixa perpetuo:114.44444444444446 bi\n",
            "Valor presente do fluxo projetado + perpetuo: [ 4.46428571  7.1747449   9.25314322  6.99069886 70.61311982] bi\n",
            "Valor de negócio: 98.4959925190314 bi\n",
            "Dividas: 50 bi\n",
            "Valor da empresa: 48.495992519031404bi\n",
            "Valor da ação: R$ 12.123998129757851\n",
            "Custo da ação: R$ 15\n",
            "Comprar as ações: não\n"
          ]
        }
      ]
    },
    {
      "cell_type": "markdown",
      "source": [
        "## Análise de Investimentos\n",
        "\n",
        "Definições: \n",
        "- \n",
        "- TIR: TAXA INTERNA DE RETORNO, Rentabilidade Média\n",
        "- TMA: TAXA MINIMA DE ATRATIVIDADE, Custo de oportunidade, mínimo de retorno, custo de captal, taxa de retorno.\n",
        "- VPL: Valor Presente Liquido ( Valor presente da entrada - valor presente da saida )\n",
        "\n",
        "- Lucro econômico: Lucro acima do meu custo de oportunidade. \n",
        "\n",
        "\n",
        "Quando Investimento: \n",
        "\n",
        "- TIR > TMA: \n",
        "  - VPL é maior que 0 \n",
        "  - Projeto aceito\n",
        "  - O investimento apresenta lucro contábil e economico\n",
        "- TIR == TMA: \n",
        "  - VPL é igual a 0 \n",
        "  - Projeto não aceito no setor privado\n",
        "  - Pode ser aceito em algumas áreas do governo\n",
        "  - Investimento apresenta lucro contábil mas não econômico\n",
        "- TIR < TMA: \n",
        "  - VPL é menor que 0  \n",
        "  - Projeto não aceito\n",
        "  - Investimento apresenta prejuiso econômico e pode apresentar prejuizo contábil. "
      ],
      "metadata": {
        "id": "iOU1p0pVZkn2"
      }
    },
    {
      "cell_type": "markdown",
      "source": [
        "### Exemplos:\n"
      ],
      "metadata": {
        "id": "RHJs2I00aSmi"
      }
    },
    {
      "cell_type": "markdown",
      "source": [
        "#### Investimento: Sociedade em uma pizzaria (TIR>TMA)\n",
        "\n",
        "Sociedade da pizzaria com um investimento de 100000 com o retorno em um ano. Minha taxa minima de atrativaidade está em 0.2. O plano de negócio oferece 0.25. Qual é o VPL desse investimento? \n",
        "\n"
      ],
      "metadata": {
        "id": "P13H91UCaV6M"
      }
    },
    {
      "cell_type": "code",
      "source": [
        "n = 1 # ano\n",
        "investimento = 100000\n",
        "\n",
        "tma = 0.2\n",
        "tir = 0.25\n",
        "\n",
        "# método 1\n",
        "retorno_minimo = investimento*(1+tma)\n",
        "retorno_ofertado = investimento*(1+tir)\n",
        "\n",
        "lucro= retorno_minimo - investimento\n",
        "lucro_economico = retorno_ofertado - retorno_minimo\n",
        "\n",
        "lucro_economico_vp = lucro_economico/(1+tma)\n",
        "\n",
        "retorno = retorno_minimo-retorno_ofertado\n",
        "\n",
        "print(\"Retorno mínimo: \", retorno_minimo)\n",
        "print(\"Retorno economico: \", retorno_ofertado)\n",
        "\n",
        "print(\"Lucro mínimo: \", lucro)\n",
        "print(\"Lucro economico: \", lucro_economico)\n",
        "print(\"Lucro economico a VP (VPL): \", lucro_economico_vp)\n",
        "\n",
        "print(\"TMA: \", tma)\n",
        "print(\"TIR: \", tir)\n",
        "\n",
        "print(\"====================VPL===========================\")\n",
        "# método 2\n",
        "vp_retorno = retorno_ofertado/(1+tma)\n",
        "\n",
        "print(\"Valor presente Retorno: \", vp_retorno)\n",
        "print(\"Valor presente do Investimento: \", investimento)\n",
        "print(\"Valor presente liquido: \", vp_retorno-investimento)\n",
        "print(\"Lucro contábil : \", retorno_ofertado-investimento)\n",
        "\n",
        "print(\"====================VPL===========================\")\n"
      ],
      "metadata": {
        "colab": {
          "base_uri": "https://localhost:8080/"
        },
        "id": "E9AOEip2ZtXc",
        "outputId": "53998ab7-9f95-457c-898b-df7290bce843"
      },
      "execution_count": 53,
      "outputs": [
        {
          "output_type": "stream",
          "name": "stdout",
          "text": [
            "Retorno mínimo:  120000.0\n",
            "Retorno economico:  125000.0\n",
            "Lucro mínimo:  20000.0\n",
            "Lucro economico:  5000.0\n",
            "Lucro economico a VP (VPL):  4166.666666666667\n",
            "TMA:  0.2\n",
            "TIR:  0.25\n",
            "====================VPL===========================\n",
            "Valor presente Retorno:  104166.66666666667\n",
            "Valor presente do Investimento:  100000\n",
            "Valor presente liquido:  4166.6666666666715\n",
            "Lucro contábil :  25000.0\n",
            "====================VPL===========================\n"
          ]
        }
      ]
    },
    {
      "cell_type": "code",
      "source": [],
      "metadata": {
        "id": "XVJvGQh7oHOi"
      },
      "execution_count": null,
      "outputs": []
    },
    {
      "cell_type": "markdown",
      "source": [
        "#### Investimento TIR=TMA\n"
      ],
      "metadata": {
        "id": "MkWFZVygkDVc"
      }
    },
    {
      "cell_type": "code",
      "source": [
        "n = 1 # ano\n",
        "investimento = 100000\n",
        "\n",
        "tma = 0.2\n",
        "tir = 0.2\n",
        "\n",
        "# método 1\n",
        "retorno_minimo = investimento*(1+tma)\n",
        "retorno_ofertado = investimento*(1+tir)\n",
        "\n",
        "lucro= retorno_minimo - investimento\n",
        "lucro_economico = retorno_ofertado - retorno_minimo\n",
        "\n",
        "lucro_economico_vp = lucro_economico/(1+tma)\n",
        "\n",
        "retorno = retorno_minimo-retorno_ofertado\n",
        "\n",
        "print(\"Retorno mínimo: \", retorno_minimo)\n",
        "print(\"Retorno economico: \", retorno_ofertado)\n",
        "\n",
        "print(\"Lucro mínimo: \", lucro)\n",
        "print(\"Lucro economico: \", lucro_economico)\n",
        "print(\"Lucro economico a VP (VPL): \", lucro_economico_vp)\n",
        "\n",
        "print(\"TMA: \", tma)\n",
        "print(\"TIR: \", tir)\n",
        "\n",
        "print(\"====================VPL===========================\")\n",
        "# método 2\n",
        "vp_retorno = retorno_ofertado/(1+tma)\n",
        "\n",
        "print(\"Valor presente Retorno: \", vp_retorno)\n",
        "print(\"Valor presente do Investimento: \", investimento)\n",
        "print(\"Valor presente liquido: \", vp_retorno-investimento)\n",
        "print(\"Lucro contábil : \", retorno_ofertado-investimento)\n",
        "\n",
        "print(\"====================VPL===========================\")\n"
      ],
      "metadata": {
        "colab": {
          "base_uri": "https://localhost:8080/"
        },
        "id": "7QKd7DWVh56m",
        "outputId": "c2ddb7de-bacc-4251-ed4d-7c49f8778e7f"
      },
      "execution_count": 52,
      "outputs": [
        {
          "output_type": "stream",
          "name": "stdout",
          "text": [
            "Retorno mínimo:  120000.0\n",
            "Retorno economico:  120000.0\n",
            "Lucro mínimo:  20000.0\n",
            "Lucro economico:  0.0\n",
            "Lucro economico a VP (VPL):  0.0\n",
            "TMA:  0.2\n",
            "TIR:  0.2\n",
            "====================VPL===========================\n",
            "Valor presente Retorno:  100000.0\n",
            "Valor presente do Investimento:  100000\n",
            "Valor presente liquido:  0.0\n",
            "Lucro contábil :  20000.0\n",
            "====================VPL===========================\n"
          ]
        }
      ]
    },
    {
      "cell_type": "markdown",
      "source": [
        "#### Investimento TIR<TMA\n"
      ],
      "metadata": {
        "id": "kiIi_ZHKnwbu"
      }
    },
    {
      "cell_type": "code",
      "source": [
        "n = 1 # ano\n",
        "investimento = 100000\n",
        "\n",
        "tma = 0.2\n",
        "tir = 0.15\n",
        "\n",
        "# método 1\n",
        "retorno_minimo = investimento*(1+tma)\n",
        "retorno_ofertado = investimento*(1+tir)\n",
        "\n",
        "lucro= retorno_minimo - investimento\n",
        "lucro_economico = retorno_ofertado - retorno_minimo\n",
        "\n",
        "lucro_economico_vp = lucro_economico/(1+tma)\n",
        "\n",
        "retorno = retorno_minimo-retorno_ofertado\n",
        "\n",
        "print(\"Retorno mínimo: \", retorno_minimo)\n",
        "print(\"Retorno economico: \", retorno_ofertado)\n",
        "\n",
        "print(\"Lucro mínimo: \", lucro)\n",
        "print(\"Lucro economico: \", lucro_economico)\n",
        "print(\"Lucro economico a VP (VPL): \", lucro_economico_vp)\n",
        "\n",
        "print(\"TMA: \", tma)\n",
        "print(\"TIR: \", tir)\n",
        "\n",
        "print(\"====================VPL===========================\")\n",
        "# método 2\n",
        "vp_retorno = retorno_ofertado/(1+tma)\n",
        "\n",
        "print(\"Valor presente Retorno: \", vp_retorno)\n",
        "print(\"Valor presente do Investimento: \", investimento)\n",
        "print(\"Valor presente liquido: \", vp_retorno-investimento)\n",
        "print(\"Lucro contábil : \", retorno_ofertado-investimento)\n",
        "\n",
        "print(\"====================VPL===========================\")\n"
      ],
      "metadata": {
        "colab": {
          "base_uri": "https://localhost:8080/"
        },
        "outputId": "540e7143-4a66-4578-be17-33879d3a7141",
        "id": "3alRmrIRnwb6"
      },
      "execution_count": 54,
      "outputs": [
        {
          "output_type": "stream",
          "name": "stdout",
          "text": [
            "Retorno mínimo:  120000.0\n",
            "Retorno economico:  114999.99999999999\n",
            "Lucro mínimo:  20000.0\n",
            "Lucro economico:  -5000.000000000015\n",
            "Lucro economico a VP (VPL):  -4166.666666666679\n",
            "TMA:  0.2\n",
            "TIR:  0.15\n",
            "====================VPL===========================\n",
            "Valor presente Retorno:  95833.33333333333\n",
            "Valor presente do Investimento:  100000\n",
            "Valor presente liquido:  -4166.6666666666715\n",
            "Lucro contábil :  14999.999999999985\n",
            "====================VPL===========================\n"
          ]
        }
      ]
    },
    {
      "cell_type": "markdown",
      "source": [
        "#### Calculando a TIR\n",
        "\n",
        "Tendo o TMA a 15% calcule a tir para o fluxo de caixa anual:\n",
        "- -100\n",
        "- 40\n",
        "- 50\n",
        "- 60\n"
      ],
      "metadata": {
        "id": "Y8_MeuwtoibO"
      }
    },
    {
      "cell_type": "code",
      "source": [
        "tma = 0.15\n",
        "fluxo_de_caixa = [-100, 40, 50, 60]\n",
        "tir = npf.irr(fluxo_de_caixa)\n",
        "\n",
        "\n",
        "print(\"n: \", n)\n",
        "\n",
        "def vp_l(i, flows):\n",
        "  n = len(fluxo_de_caixa)\n",
        "  return flows[0] + np.sum(flows[1:]/((1+tma)**np.array(range(1,n))))\n",
        "\n",
        "\n",
        "vpl = vp_l(tma, fluxo_de_caixa)\n",
        "\n",
        "\n",
        "print(\"Fluxo de caixa: \", fluxo_de_caixa)\n",
        "print(\"TIR: \", tir)\n",
        "print(\"TMA: \", tma)\n",
        "print(\"VPL\", vpl)\n",
        "\n",
        "\n"
      ],
      "metadata": {
        "colab": {
          "base_uri": "https://localhost:8080/"
        },
        "id": "W3eugnWsoh1M",
        "outputId": "10901ec1-7a03-4186-a52f-5ca78404b584"
      },
      "execution_count": 70,
      "outputs": [
        {
          "output_type": "stream",
          "name": "stdout",
          "text": [
            "n:  4\n",
            "Fluxo de caixa:  [-100, 40, 50, 60]\n",
            "TIR:  0.21647785418428933\n",
            "TMA:  0.15\n",
            "VPL 12.040766006410792\n"
          ]
        }
      ]
    },
    {
      "cell_type": "code",
      "source": [
        "print(fluxo_de_caixa[1:])\n",
        "print(np.array(range(1,n)))"
      ],
      "metadata": {
        "colab": {
          "base_uri": "https://localhost:8080/"
        },
        "id": "DRRjHBqquBAX",
        "outputId": "550e8f8c-b8b3-438d-bd42-a1678a50fea9"
      },
      "execution_count": 63,
      "outputs": [
        {
          "output_type": "stream",
          "name": "stdout",
          "text": [
            "[40, 50, 60]\n",
            "[1 2]\n"
          ]
        }
      ]
    }
  ]
}